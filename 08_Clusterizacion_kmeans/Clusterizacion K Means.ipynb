{
  "nbformat": 4,
  "nbformat_minor": 0,
  "metadata": {
    "colab": {
      "provenance": []
    },
    "kernelspec": {
      "name": "python3",
      "display_name": "Python 3"
    },
    "language_info": {
      "name": "python"
    }
  },
  "cells": [
    {
      "cell_type": "code",
      "execution_count": null,
      "metadata": {
        "id": "85-7YRY0AN-c"
      },
      "outputs": [],
      "source": [
        "import pandas as pd\n",
        "datos = pd.read_csv(\"housing.csv\")"
      ]
    },
    {
      "cell_type": "code",
      "source": [
        "datos.head()"
      ],
      "metadata": {
        "id": "_8ZB-ypZCps0"
      },
      "execution_count": null,
      "outputs": []
    },
    {
      "cell_type": "code",
      "source": [
        "import seaborn as sb\n",
        "sb.scatterplot(x=\"latitude\", y=\"longitude\", data=datos, hue=\"median_house_value\",\n",
        "               palette=\"coolwarm\")"
      ],
      "metadata": {
        "id": "Br1DxPBYDApV"
      },
      "execution_count": null,
      "outputs": []
    },
    {
      "cell_type": "code",
      "source": [
        "import seaborn as sb\n",
        "sb.scatterplot(x=\"latitude\", y=\"longitude\", data=datos, hue=\"median_income\",\n",
        "               s=datos[\"median_income\"])"
      ],
      "metadata": {
        "id": "TFzHbi7hDXml"
      },
      "execution_count": null,
      "outputs": []
    },
    {
      "cell_type": "code",
      "source": [
        "datos.loc[:, [\"latitude\", \"longitude\", \"median_income\"]]"
      ],
      "metadata": {
        "id": "ztitI2IFFbse"
      },
      "execution_count": null,
      "outputs": []
    },
    {
      "cell_type": "code",
      "source": [
        "from sklearn.cluster import KMeans\n",
        "\n",
        "X = datos.loc[:, [\"latitude\", \"longitude\", \"median_income\"]]\n",
        "modelo = KMeans(n_clusters=6)\n",
        "predicciones = modelo.fit_predict(X)"
      ],
      "metadata": {
        "id": "IhYNPTNnFprD"
      },
      "execution_count": null,
      "outputs": []
    },
    {
      "cell_type": "code",
      "source": [
        "predicciones.shape"
      ],
      "metadata": {
        "id": "5oP2wUaAGM5u"
      },
      "execution_count": null,
      "outputs": []
    },
    {
      "cell_type": "code",
      "source": [
        "X[\"segmento_economico\"] = predicciones"
      ],
      "metadata": {
        "id": "Uf5G1_FdGZNi"
      },
      "execution_count": null,
      "outputs": []
    },
    {
      "cell_type": "code",
      "source": [
        "X"
      ],
      "metadata": {
        "id": "uIo_fe6-GeDg"
      },
      "execution_count": null,
      "outputs": []
    },
    {
      "cell_type": "code",
      "source": [
        "X[\"segmento_economico\"].value_counts()"
      ],
      "metadata": {
        "id": "a9EuT78vGgTI"
      },
      "execution_count": null,
      "outputs": []
    },
    {
      "cell_type": "code",
      "source": [
        "import seaborn as sb\n",
        "sb.scatterplot(x=\"latitude\", y=\"longitude\", data=X, hue=\"segmento_economico\",\n",
        "               palette=\"bright\")"
      ],
      "metadata": {
        "id": "5UMu88h-G8dZ"
      },
      "execution_count": null,
      "outputs": []
    },
    {
      "cell_type": "code",
      "source": [
        "sb.countplot(x=\"segmento_economico\", data=X)"
      ],
      "metadata": {
        "id": "sI3j8_w0HmVL"
      },
      "execution_count": null,
      "outputs": []
    },
    {
      "cell_type": "code",
      "source": [
        "X.groupby([\"segmento_economico\"])[\"median_income\"].mean()"
      ],
      "metadata": {
        "id": "hOUlK9VoHtGT"
      },
      "execution_count": null,
      "outputs": []
    }
  ]
}